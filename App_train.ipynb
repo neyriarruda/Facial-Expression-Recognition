{
 "cells": [
  {
   "cell_type": "code",
   "execution_count": 6,
   "metadata": {},
   "outputs": [
    {
     "name": "stderr",
     "output_type": "stream",
     "text": [
      "Using TensorFlow backend.\n"
     ]
    }
   ],
   "source": [
    "from keras.preprocessing.image import ImageDataGenerator, array_to_img, img_to_array, load_img\n",
    "from keras.models import Sequential \n",
    "from keras.layers import Conv2D, MaxPooling2D, Flatten, Dense, Dropout\n",
    "from keras.layers.normalization import BatchNormalization\n",
    "from keras.callbacks import ModelCheckpoint, EarlyStopping, TensorBoard\n",
    "import pandas as pd\n",
    "import numpy as np\n",
    "import matplotlib.pyplot as plt\n",
    "from keras.utils import np_utils\n",
    "from keras import optimizers\n",
    "\n",
    "from sklearn.preprocessing import MinMaxScaler\n",
    "from sklearn.metrics import classification_report, confusion_matrix"
   ]
  },
  {
   "cell_type": "markdown",
   "metadata": {},
   "source": [
    "# Facial Expression Recognition"
   ]
  },
  {
   "cell_type": "markdown",
   "metadata": {},
   "source": [
    "### 0=Angry, 1=Disgust, 2=Fear, 3=Happy, 4=Sad, 5=Surprise, 6=Neutral"
   ]
  },
  {
   "cell_type": "code",
   "execution_count": 7,
   "metadata": {},
   "outputs": [],
   "source": [
    "def pre_pro():\n",
    "    \n",
    "    \n",
    "    data1 = pd.read_csv('./fer2013.csv')\n",
    "    \n",
    "    # Removendo as expressoes Angry=0 e Disgust=1\n",
    "    data1  = data1[data1['emotion'] != 1]\n",
    "    data1  = data1[data1['emotion'] != 0]\n",
    "    \n",
    "     \n",
    "    # Alterando os labels das expressoes Surprise de 5 para 0 e Neutral de 6 para 1 \n",
    "    data1['emotion'] = data1['emotion'].replace(5, 0) \n",
    "    data1['emotion'] = data1['emotion'].replace(6, 1)\n",
    "    \n",
    "    \n",
    "    return data1"
   ]
  },
  {
   "cell_type": "code",
   "execution_count": 8,
   "metadata": {},
   "outputs": [],
   "source": [
    "def pre_pixels(data):\n",
    "    # Script para preparar conjuntos de dados, carregar dados e gerar imagens em escala \n",
    "    # Crie um diretório e mantenha o arquivo fer2013.csv no diretório. \n",
    "    # Dataset original em: https://www.kaggle.com/c/challenges-in-representation-learning-facial-expression-recognition-challenge\n",
    "   \n",
    "    data1 = data\n",
    "    \n",
    "    \"\"\" \n",
    "    # Removendo as expressoes Angry=0 e Disgust=1\n",
    "    data1  = data1[data1['emotion'] != 1]\n",
    "    data1  = data1[data1['emotion'] != 0]\n",
    "    \n",
    "    # Alterando os labels das expressoes Surprise de 5 para 0 e Neutral de 6 para 1 \n",
    "    data1['emotion'] = data1['emotion'].replace(5, 0) \n",
    "    data1['emotion'] = data1['emotion'].replace(6, 1) \n",
    "    \"\"\"\n",
    "\n",
    "\n",
    "    pixels1 = data1['pixels']\n",
    "\n",
    "    pix = list(pixels1)\n",
    "    pix1 = pd.DataFrame(pix)\n",
    "    pix2 = pix1.iloc[:,0].str.split(' ', expand=True)\n",
    "    df = pix2\n",
    "    \n",
    "  \n",
    "    # Normalização\n",
    "    scaler = MinMaxScaler()\n",
    "    df_n = scaler.fit_transform(df)\n",
    "    \n",
    "    # Salva os dados em formato numpy\n",
    "    np.save('data/normalize.bin.npy',df_n)\n",
    "    \n",
    "    print(\"Shape pixels\")\n",
    "    print(df_n.shape)"
   ]
  },
  {
   "cell_type": "code",
   "execution_count": 11,
   "metadata": {},
   "outputs": [],
   "source": [
    "def pre_emotions (data):\n",
    "    \n",
    "    \n",
    "    data1 = data['emotion']\n",
    "\n",
    "\n",
    "    \"\"\"# Removendo as expressoes Angry=0 e Disgust=1\n",
    "    data1  = data1[data1['emotion'] != 1]\n",
    "    data1  = data1[data1['emotion'] != 0]\n",
    "\n",
    "    # Alterando os labels das expressoes Surprise de 5 para 0 e Neutral de 6 para 1 \n",
    "    data1['emotion'] = data1['emotion'].replace(5, 0) \n",
    "    data1['emotion'] = data1['emotion'].replace(6, 1) \"\"\"\n",
    "    \n",
    "    data = np.array(data1)\n",
    "    data = data.astype('float64')\n",
    "\n",
    "  \n",
    "\n",
    "    np.save('./emotion.bin.npy',data)\n",
    "    \n",
    "    print(\"Shape emotion\")\n",
    "    print(data.shape)"
   ]
  },
  {
   "cell_type": "code",
   "execution_count": null,
   "metadata": {},
   "outputs": [],
   "source": [
    "############ Caso queira executar o pré-processamento novamente descomente as lihna abaixo (pode demorar um pouco para executar)\n",
    "\n",
    "\n",
    "#data = pre_pro()\n",
    "#print(\"pre_pro ok\")\n",
    "#pre_pixels(data)\n",
    "#print(\"pre_pix ok\")\n",
    "#pre_emotions(data)\n",
    "#print(\"pre_emo ok\")"
   ]
  },
  {
   "cell_type": "markdown",
   "metadata": {},
   "source": [
    "# Carregando dados"
   ]
  },
  {
   "cell_type": "code",
   "execution_count": 13,
   "metadata": {},
   "outputs": [],
   "source": [
    "X_train = np.load('./data/normalize.bin.npy')\n",
    "labels = np.load('./emotion.bin.npy')\n"
   ]
  },
  {
   "cell_type": "code",
   "execution_count": 14,
   "metadata": {},
   "outputs": [
    {
     "data": {
      "text/plain": [
       "(30387, 2304)"
      ]
     },
     "execution_count": 14,
     "metadata": {},
     "output_type": "execute_result"
    }
   ],
   "source": [
    "X_train.shape"
   ]
  },
  {
   "cell_type": "code",
   "execution_count": 15,
   "metadata": {},
   "outputs": [
    {
     "data": {
      "text/plain": [
       "(30387,)"
      ]
     },
     "execution_count": 15,
     "metadata": {},
     "output_type": "execute_result"
    }
   ],
   "source": [
    "labels.shape"
   ]
  },
  {
   "cell_type": "code",
   "execution_count": 16,
   "metadata": {},
   "outputs": [],
   "source": [
    "# one hot encoding\n",
    "labels = pd.DataFrame(labels)\n",
    "labels = np_utils.to_categorical(labels)"
   ]
  },
  {
   "cell_type": "markdown",
   "metadata": {},
   "source": [
    "# Dividindo dados de treinamento, validadação e teste"
   ]
  },
  {
   "cell_type": "code",
   "execution_count": 17,
   "metadata": {},
   "outputs": [
    {
     "data": {
      "text/plain": [
       "30387"
      ]
     },
     "execution_count": 17,
     "metadata": {},
     "output_type": "execute_result"
    }
   ],
   "source": [
    "num = len(X_train)\n",
    "train = int ( num  * 0.7)\n",
    "val = int ( num  * 0.8)\n",
    "num"
   ]
  },
  {
   "cell_type": "code",
   "execution_count": 18,
   "metadata": {},
   "outputs": [
    {
     "name": "stdout",
     "output_type": "stream",
     "text": [
      "Dados de trainamento: 21270, val: 3039 e teste: 6078\n"
     ]
    }
   ],
   "source": [
    "X_trainn = X_train[:train]\n",
    "X_val = X_train[train:val]\n",
    "X_test = X_train[val:]\n",
    "\n",
    "total = (len(X_trainn)+  len(X_val)+ len(X_test))\n",
    "\n",
    "print(\"Dados de trainamento: %s, val: %s e teste: %s\"%(len(X_trainn), len(X_val), len(X_test)))\n",
    "total\n",
    "\n",
    "\n",
    "X_trainn = X_trainn.reshape(X_trainn.shape[0] ,  48 , 48,1)\n",
    "X_val = X_val.reshape(X_val.shape[0] ,  48 , 48,1)\n",
    "X_test = X_test.reshape(X_test.shape[0] ,  48 , 48,1)"
   ]
  },
  {
   "cell_type": "code",
   "execution_count": 19,
   "metadata": {},
   "outputs": [
    {
     "name": "stdout",
     "output_type": "stream",
     "text": [
      "lables: 21270, val: 3039 e teste: 6078\n"
     ]
    }
   ],
   "source": [
    "y_train = labels[:train]\n",
    "y_val = labels[train:val]\n",
    "y_test = labels[val:]\n",
    "\n",
    "total = (len(y_train)+  len(y_val)+ len(y_test))\n",
    "total\n",
    "\n",
    "print(\"lables: %s, val: %s e teste: %s\"%(len(y_train), len(y_val), len(y_test)))"
   ]
  },
  {
   "cell_type": "markdown",
   "metadata": {},
   "source": [
    "# Exibindo imagem "
   ]
  },
  {
   "cell_type": "code",
   "execution_count": 20,
   "metadata": {},
   "outputs": [
    {
     "data": {
      "image/png": "[encoded data removed]",
      "text/plain": [
       "<Figure size 432x288 with 1 Axes>"
      ]
     },
     "metadata": {
      "needs_background": "light"
     },
     "output_type": "display_data"
    }
   ],
   "source": [
    "X_train = X_train.reshape(X_train.shape[0] ,  48 , 48)\n",
    "#X_train2 = X_train.reshape(X_train.shape[0] ,  48 , 48, 1)\n",
    "\n",
    "plt.imshow(X_train[0], cmap=\"gray\")\n",
    "plt.show()"
   ]
  },
  {
   "cell_type": "markdown",
   "metadata": {},
   "source": [
    "# Modelo"
   ]
  },
  {
   "cell_type": "code",
   "execution_count": 24,
   "metadata": {},
   "outputs": [
    {
     "name": "stdout",
     "output_type": "stream",
     "text": [
      "_________________________________________________________________\n",
      "Layer (type)                 Output Shape              Param #   \n",
      "=================================================================\n",
      "conv2d_4 (Conv2D)            (None, 46, 46, 128)       1280      \n",
      "_________________________________________________________________\n",
      "batch_normalization_4 (Batch (None, 46, 46, 128)       512       \n",
      "_________________________________________________________________\n",
      "max_pooling2d_4 (MaxPooling2 (None, 23, 23, 128)       0         \n",
      "_________________________________________________________________\n",
      "conv2d_5 (Conv2D)            (None, 23, 23, 64)        73792     \n",
      "_________________________________________________________________\n",
      "batch_normalization_5 (Batch (None, 23, 23, 64)        256       \n",
      "_________________________________________________________________\n",
      "max_pooling2d_5 (MaxPooling2 (None, 11, 11, 64)        0         \n",
      "_________________________________________________________________\n",
      "dropout_5 (Dropout)          (None, 11, 11, 64)        0         \n",
      "_________________________________________________________________\n",
      "conv2d_6 (Conv2D)            (None, 11, 11, 32)        18464     \n",
      "_________________________________________________________________\n",
      "batch_normalization_6 (Batch (None, 11, 11, 32)        128       \n",
      "_________________________________________________________________\n",
      "max_pooling2d_6 (MaxPooling2 (None, 5, 5, 32)          0         \n",
      "_________________________________________________________________\n",
      "dropout_6 (Dropout)          (None, 5, 5, 32)          0         \n",
      "_________________________________________________________________\n",
      "flatten_2 (Flatten)          (None, 800)               0         \n",
      "_________________________________________________________________\n",
      "dense_4 (Dense)              (None, 512)               410112    \n",
      "_________________________________________________________________\n",
      "dropout_7 (Dropout)          (None, 512)               0         \n",
      "_________________________________________________________________\n",
      "dense_5 (Dense)              (None, 256)               131328    \n",
      "_________________________________________________________________\n",
      "dropout_8 (Dropout)          (None, 256)               0         \n",
      "_________________________________________________________________\n",
      "dense_6 (Dense)              (None, 5)                 1285      \n",
      "=================================================================\n",
      "Total params: 637,157\n",
      "Trainable params: 636,709\n",
      "Non-trainable params: 448\n",
      "_________________________________________________________________\n"
     ]
    }
   ],
   "source": [
    "model = Sequential()\n",
    "\n",
    "model.add(Conv2D(128, (3,3), input_shape = (48,48,1),padding=\"valid\", activation='relu'))\n",
    "model.add(BatchNormalization())\n",
    "model.add(MaxPooling2D(pool_size=(2,2)))\n",
    "\n",
    "model.add(Conv2D(64, (3,3), activation='relu', padding=\"same\"))\n",
    "model.add(BatchNormalization())\n",
    "model.add(MaxPooling2D(pool_size=(2,2)))\n",
    "model.add(Dropout(0.2))\n",
    "\n",
    "model.add(Conv2D(32, (3,3), activation='relu',padding=\"same\"))\n",
    "model.add(BatchNormalization())\n",
    "model.add(MaxPooling2D(pool_size=(2,2)))\n",
    "model.add(Dropout(0.2))\n",
    "\n",
    "\n",
    "\n",
    "model.add(Flatten())\n",
    "\n",
    "model.add(Dense(512, activation='relu'))\n",
    "model.add(Dropout(0.3))\n",
    "\n",
    "model.add(Dense(256, activation='relu'))\n",
    "model.add(Dropout(0.2))\n",
    "\n",
    "model.add(Dense(5, activation = 'softmax'))\n",
    "\n",
    "\n",
    "model.summary()"
   ]
  },
  {
   "cell_type": "code",
   "execution_count": 27,
   "metadata": {},
   "outputs": [],
   "source": [
    "opt = optimizers.Adam(lr=0.001);\n",
    "#optm = optimizers.RMSprop(lr=0.004, rho=0.9, epsilon=1e-08, decay=0.0)\n",
    "#sgd = optimizers.SGD(lr=0.055, decay=1e-6, momentum=0.9, nesterov=True)\n",
    "model.compile(optimizer=opt, loss='categorical_crossentropy', metrics=['accuracy'])"
   ]
  },
  {
   "cell_type": "code",
   "execution_count": 30,
   "metadata": {},
   "outputs": [
    {
     "name": "stdout",
     "output_type": "stream",
     "text": [
      "Train on 21270 samples, validate on 3039 samples\n",
      "Epoch 1/50\n",
      "21270/21270 [==============================] - 41s 2ms/step - loss: 0.4964 - acc: 0.8124 - val_loss: 0.9254 - val_acc: 0.6578\n",
      "\n",
      "Epoch 00001: val_loss improved from inf to 0.92539, saving model to weights_203.hdf5\n",
      "Epoch 2/50\n",
      "21270/21270 [==============================] - 41s 2ms/step - loss: 0.4827 - acc: 0.8142 - val_loss: 0.9515 - val_acc: 0.6660\n",
      "\n",
      "Epoch 00002: val_loss did not improve from 0.92539\n",
      "Epoch 3/50\n",
      "21270/21270 [==============================] - 41s 2ms/step - loss: 0.4732 - acc: 0.8204 - val_loss: 1.0052 - val_acc: 0.6561\n",
      "\n",
      "Epoch 00003: val_loss did not improve from 0.92539\n",
      "Epoch 4/50\n",
      "21270/21270 [==============================] - 42s 2ms/step - loss: 0.4532 - acc: 0.8272 - val_loss: 0.9510 - val_acc: 0.6598\n",
      "\n",
      "Epoch 00004: val_loss did not improve from 0.92539\n",
      "Epoch 5/50\n",
      "21270/21270 [==============================] - 42s 2ms/step - loss: 0.4455 - acc: 0.8311 - val_loss: 0.9572 - val_acc: 0.6578\n",
      "\n",
      "Epoch 00005: val_loss did not improve from 0.92539\n",
      "Epoch 6/50\n",
      "21270/21270 [==============================] - 42s 2ms/step - loss: 0.4337 - acc: 0.8379 - val_loss: 0.9190 - val_acc: 0.6578\n",
      "\n",
      "Epoch 00006: val_loss improved from 0.92539 to 0.91903, saving model to weights_203.hdf5\n",
      "Epoch 7/50\n",
      "21270/21270 [==============================] - 41s 2ms/step - loss: 0.4261 - acc: 0.8394 - val_loss: 0.9785 - val_acc: 0.6598\n",
      "\n",
      "Epoch 00007: val_loss did not improve from 0.91903\n",
      "Epoch 8/50\n",
      "21270/21270 [==============================] - 42s 2ms/step - loss: 0.4159 - acc: 0.8411 - val_loss: 0.9482 - val_acc: 0.6499\n",
      "\n",
      "Epoch 00008: val_loss did not improve from 0.91903\n",
      "Epoch 9/50\n",
      "21270/21270 [==============================] - 42s 2ms/step - loss: 0.3963 - acc: 0.8522 - val_loss: 1.0099 - val_acc: 0.6637\n",
      "\n",
      "Epoch 00009: val_loss did not improve from 0.91903\n",
      "Epoch 10/50\n",
      "21270/21270 [==============================] - 41s 2ms/step - loss: 0.3977 - acc: 0.8495 - val_loss: 1.1166 - val_acc: 0.6528\n",
      "\n",
      "Epoch 00010: val_loss did not improve from 0.91903\n",
      "Epoch 11/50\n",
      "21270/21270 [==============================] - 43s 2ms/step - loss: 0.3755 - acc: 0.8603 - val_loss: 1.1130 - val_acc: 0.6594\n",
      "\n",
      "Epoch 00011: val_loss did not improve from 0.91903\n",
      "Epoch 12/50\n",
      "21270/21270 [==============================] - 43s 2ms/step - loss: 0.3772 - acc: 0.8587 - val_loss: 1.0536 - val_acc: 0.6614\n",
      "\n",
      "Epoch 00012: val_loss did not improve from 0.91903\n",
      "Epoch 13/50\n",
      "21270/21270 [==============================] - 44s 2ms/step - loss: 0.3670 - acc: 0.8619 - val_loss: 0.9795 - val_acc: 0.6637\n",
      "\n",
      "Epoch 00013: val_loss did not improve from 0.91903\n"
     ]
    },
    {
     "data": {
      "text/plain": [
       "<keras.callbacks.History at 0x7f3fa46ae668>"
      ]
     },
     "execution_count": 30,
     "metadata": {},
     "output_type": "execute_result"
    }
   ],
   "source": [
    "# Salvando o melhor modelo (melhor conjunto de pesos)\n",
    "check = ModelCheckpoint(filepath='weights_203.hdf5', verbose=1, save_best_only=True)\n",
    "early = EarlyStopping(monitor='val_loss',patience=7)\n",
    "tensorboard = TensorBoard(log_dir='./logs')\n",
    "\n",
    "model.fit(X_trainn, y_train, batch_size=100 , epochs=50, validation_data=[X_val, y_val], callbacks=[check, early, tensorboard])\n"
   ]
  },
  {
   "cell_type": "code",
   "execution_count": null,
   "metadata": {},
   "outputs": [],
   "source": [
    "#model.load_weights('./weights.hdf5')"
   ]
  },
  {
   "cell_type": "code",
   "execution_count": null,
   "metadata": {},
   "outputs": [],
   "source": [
    "########## Caso Deseje salvar uma nova arquitura, descomente as linha abaixo \n",
    "#import h5py\n",
    "#json_string = model.to_json()\n",
    "#open('models/model_arch.json', 'w').write(json_string)"
   ]
  },
  {
   "cell_type": "code",
   "execution_count": 32,
   "metadata": {},
   "outputs": [
    {
     "data": {
      "text/plain": [
       "(6078, 5)"
      ]
     },
     "execution_count": 32,
     "metadata": {},
     "output_type": "execute_result"
    }
   ],
   "source": [
    "predictions = model.predict(X_test)\n",
    "predictions.shape"
   ]
  },
  {
   "cell_type": "code",
   "execution_count": 33,
   "metadata": {},
   "outputs": [
    {
     "data": {
      "text/plain": [
       "<matplotlib.axes._subplots.AxesSubplot at 0x7f3eb13674e0>"
      ]
     },
     "execution_count": 33,
     "metadata": {},
     "output_type": "execute_result"
    },
    {
     "data": {
      "image/png": "[encoded data removed]",
      "text/plain": [
       "<Figure size 1440x720 with 2 Axes>"
      ]
     },
     "metadata": {
      "needs_background": "light"
     },
     "output_type": "display_data"
    }
   ],
   "source": [
    "import seaborn as sn\n",
    "matrix = confusion_matrix(y_test.argmax(axis=1), predictions.argmax(axis=1))\n",
    "matrix\n",
    "plt.figure(figsize = (20,10))\n",
    "sn.heatmap(matrix, annot=True)"
   ]
  },
  {
   "cell_type": "code",
   "execution_count": 34,
   "metadata": {},
   "outputs": [],
   "source": [
    "target_names = ['Surprise', 'Neutral', 'Fear', 'Happy', 'Sad' ]\n",
    "#print(classification_report(y_test, predictions, target_names=target_names))"
   ]
  },
  {
   "cell_type": "code",
   "execution_count": 35,
   "metadata": {},
   "outputs": [],
   "source": [
    "def plott():\n",
    "    normalize=False\n",
    "    title=None\n",
    "    cmap=plt.cm.Blues\n",
    "    cm = matrix\n",
    "    classes = target_names\n",
    "\n",
    "    fig, ax = plt.subplots(figsize = (20,10))\n",
    "    im = ax.imshow(matrix, interpolation='nearest', cmap=cmap)\n",
    "    ax.figure.colorbar(im, ax=ax)\n",
    "    # We want to show all ticks...\n",
    "    ax.set(xticks=np.arange(cm.shape[1]),\n",
    "           yticks=np.arange(cm.shape[0]),\n",
    "           # ... and label them with the respective list entries\n",
    "           xticklabels=classes, yticklabels=classes,\n",
    "           title=title,\n",
    "           ylabel='True label',\n",
    "           xlabel='Predicted label')\n",
    "\n",
    "    # Rotate the tick labels and set their alignment.\n",
    "    plt.setp(ax.get_xticklabels(), rotation=45, ha=\"right\",\n",
    "             rotation_mode=\"anchor\")\n",
    "\n",
    "    # Loop over data dimensions and create text annotations.\n",
    "    fmt = '.2f' if normalize else 'd'\n",
    "    thresh = matrix.max() / 2.\n",
    "    for i in range(matrix.shape[0]):\n",
    "        for j in range(matrix.shape[1]):\n",
    "            ax.text(j, i, format(matrix[i, j], fmt),\n",
    "                    ha=\"center\", va=\"center\",\n",
    "                    color=\"white\" if matrix[i, j] > thresh else \"black\")\n",
    "    fig.tight_layout()\n",
    "    return ax"
   ]
  },
  {
   "cell_type": "code",
   "execution_count": 36,
   "metadata": {},
   "outputs": [
    {
     "data": {
      "text/plain": [
       "<matplotlib.axes._subplots.AxesSubplot at 0x7f3eb0bb1748>"
      ]
     },
     "execution_count": 36,
     "metadata": {},
     "output_type": "execute_result"
    },
    {
     "data": {
      "image/png": "[encoded data removed]",
      "text/plain": [
       "<Figure size 1440x720 with 2 Axes>"
      ]
     },
     "metadata": {
      "needs_background": "light"
     },
     "output_type": "display_data"
    }
   ],
   "source": [
    "plott()"
   ]
  },
  {
   "cell_type": "code",
   "execution_count": null,
   "metadata": {},
   "outputs": [],
   "source": []
  }
 ],
 "metadata": {
  "kernelspec": {
   "display_name": "Python [conda env:cuda9.2]",
   "language": "python",
   "name": "conda-env-cuda9.2-py"
  },
  "language_info": {
   "codemirror_mode": {
    "name": "ipython",
    "version": 3
   },
   "file_extension": ".py",
   "mimetype": "text/x-python",
   "name": "python",
   "nbconvert_exporter": "python",
   "pygments_lexer": "ipython3",
   "version": "3.6.7"
  }
 },
 "nbformat": 4,
 "nbformat_minor": 2
}
